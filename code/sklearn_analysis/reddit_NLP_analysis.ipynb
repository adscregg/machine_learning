{
 "cells": [
  {
   "cell_type": "markdown",
   "metadata": {},
   "source": [
    "# Imports"
   ]
  },
  {
   "cell_type": "code",
   "execution_count": 1,
   "metadata": {},
   "outputs": [],
   "source": [
    "import pandas as pd\n",
    "import string\n",
    "import numpy as np\n",
    "import time\n",
    "\n",
    "import seaborn as sns\n",
    "import matplotlib.pyplot as plt\n",
    "sns.set_style('whitegrid')\n",
    "%matplotlib inline\n",
    "\n",
    "import nltk\n",
    "from nltk.corpus import stopwords\n",
    "from nltk.stem import PorterStemmer, WordNetLemmatizer\n",
    "\n",
    "from sklearn.feature_extraction.text import CountVectorizer, TfidfTransformer\n",
    "from sklearn.naive_bayes import MultinomialNB\n",
    "from sklearn.model_selection import train_test_split\n",
    "from sklearn.metrics import accuracy_score, classification_report, confusion_matrix\n",
    "from sklearn.pipeline import Pipeline\n",
    "from sklearn.svm import SVC"
   ]
  },
  {
   "cell_type": "markdown",
   "metadata": {},
   "source": [
    "# Read in and view data"
   ]
  },
  {
   "cell_type": "code",
   "execution_count": 2,
   "metadata": {},
   "outputs": [
    {
     "data": {
      "text/html": [
       "<div>\n",
       "<style scoped>\n",
       "    .dataframe tbody tr th:only-of-type {\n",
       "        vertical-align: middle;\n",
       "    }\n",
       "\n",
       "    .dataframe tbody tr th {\n",
       "        vertical-align: top;\n",
       "    }\n",
       "\n",
       "    .dataframe thead th {\n",
       "        text-align: right;\n",
       "    }\n",
       "</style>\n",
       "<table border=\"1\" class=\"dataframe\">\n",
       "  <thead>\n",
       "    <tr style=\"text-align: right;\">\n",
       "      <th></th>\n",
       "      <th>BODY</th>\n",
       "      <th>REMOVED</th>\n",
       "    </tr>\n",
       "  </thead>\n",
       "  <tbody>\n",
       "    <tr>\n",
       "      <th>0</th>\n",
       "      <td>Always be wary of news articles that cite unpu...</td>\n",
       "      <td>No</td>\n",
       "    </tr>\n",
       "    <tr>\n",
       "      <th>1</th>\n",
       "      <td>The problem I have with this is that the artic...</td>\n",
       "      <td>No</td>\n",
       "    </tr>\n",
       "    <tr>\n",
       "      <th>2</th>\n",
       "      <td>This is indicative of a typical power law, and...</td>\n",
       "      <td>No</td>\n",
       "    </tr>\n",
       "    <tr>\n",
       "      <th>3</th>\n",
       "      <td>This doesn't make sense. Chess obviously trans...</td>\n",
       "      <td>No</td>\n",
       "    </tr>\n",
       "    <tr>\n",
       "      <th>4</th>\n",
       "      <td>1. I dispute that gene engineering is burdenso...</td>\n",
       "      <td>No</td>\n",
       "    </tr>\n",
       "  </tbody>\n",
       "</table>\n",
       "</div>"
      ],
      "text/plain": [
       "                                                BODY REMOVED\n",
       "0  Always be wary of news articles that cite unpu...      No\n",
       "1  The problem I have with this is that the artic...      No\n",
       "2  This is indicative of a typical power law, and...      No\n",
       "3  This doesn't make sense. Chess obviously trans...      No\n",
       "4  1. I dispute that gene engineering is burdenso...      No"
      ]
     },
     "execution_count": 2,
     "metadata": {},
     "output_type": "execute_result"
    }
   ],
   "source": [
    "reddit = pd.read_csv('../../datasets/reddit_train.csv') #read in the dataset\n",
    "reddit.drop(['num', 'X'], axis = 1, inplace = True) # These columns provide no information for classification so we remove them\n",
    "reddit['REMOVED'] = reddit['REMOVED'].map({1:'Yes', 0:'No'}) # To make the understanding of the dataset clearer for now\n",
    "\n",
    "reddit.head() # see the first 5 rows of data"
   ]
  },
  {
   "cell_type": "code",
   "execution_count": 3,
   "metadata": {},
   "outputs": [
    {
     "data": {
      "text/html": [
       "<div>\n",
       "<style scoped>\n",
       "    .dataframe tbody tr th:only-of-type {\n",
       "        vertical-align: middle;\n",
       "    }\n",
       "\n",
       "    .dataframe tbody tr th {\n",
       "        vertical-align: top;\n",
       "    }\n",
       "\n",
       "    .dataframe thead th {\n",
       "        text-align: right;\n",
       "    }\n",
       "</style>\n",
       "<table border=\"1\" class=\"dataframe\">\n",
       "  <thead>\n",
       "    <tr style=\"text-align: right;\">\n",
       "      <th></th>\n",
       "      <th>BODY</th>\n",
       "      <th>REMOVED</th>\n",
       "    </tr>\n",
       "  </thead>\n",
       "  <tbody>\n",
       "    <tr>\n",
       "      <th>count</th>\n",
       "      <td>21336</td>\n",
       "      <td>21336</td>\n",
       "    </tr>\n",
       "    <tr>\n",
       "      <th>unique</th>\n",
       "      <td>21332</td>\n",
       "      <td>2</td>\n",
       "    </tr>\n",
       "    <tr>\n",
       "      <th>top</th>\n",
       "      <td>Why is every comment removed?</td>\n",
       "      <td>No</td>\n",
       "    </tr>\n",
       "    <tr>\n",
       "      <th>freq</th>\n",
       "      <td>3</td>\n",
       "      <td>14479</td>\n",
       "    </tr>\n",
       "  </tbody>\n",
       "</table>\n",
       "</div>"
      ],
      "text/plain": [
       "                                 BODY REMOVED\n",
       "count                           21336   21336\n",
       "unique                          21332       2\n",
       "top     Why is every comment removed?      No\n",
       "freq                                3   14479"
      ]
     },
     "execution_count": 3,
     "metadata": {},
     "output_type": "execute_result"
    }
   ],
   "source": [
    "reddit.describe() # stats about the data"
   ]
  },
  {
   "cell_type": "code",
   "execution_count": 4,
   "metadata": {},
   "outputs": [
    {
     "data": {
      "text/html": [
       "<div>\n",
       "<style scoped>\n",
       "    .dataframe tbody tr th:only-of-type {\n",
       "        vertical-align: middle;\n",
       "    }\n",
       "\n",
       "    .dataframe tbody tr th {\n",
       "        vertical-align: top;\n",
       "    }\n",
       "\n",
       "    .dataframe thead tr th {\n",
       "        text-align: left;\n",
       "    }\n",
       "\n",
       "    .dataframe thead tr:last-of-type th {\n",
       "        text-align: right;\n",
       "    }\n",
       "</style>\n",
       "<table border=\"1\" class=\"dataframe\">\n",
       "  <thead>\n",
       "    <tr>\n",
       "      <th></th>\n",
       "      <th colspan=\"4\" halign=\"left\">BODY</th>\n",
       "    </tr>\n",
       "    <tr>\n",
       "      <th></th>\n",
       "      <th>count</th>\n",
       "      <th>unique</th>\n",
       "      <th>top</th>\n",
       "      <th>freq</th>\n",
       "    </tr>\n",
       "    <tr>\n",
       "      <th>REMOVED</th>\n",
       "      <th></th>\n",
       "      <th></th>\n",
       "      <th></th>\n",
       "      <th></th>\n",
       "    </tr>\n",
       "  </thead>\n",
       "  <tbody>\n",
       "    <tr>\n",
       "      <th>No</th>\n",
       "      <td>14479</td>\n",
       "      <td>14479</td>\n",
       "      <td>One very surprising effect of having a dog aga...</td>\n",
       "      <td>1</td>\n",
       "    </tr>\n",
       "    <tr>\n",
       "      <th>Yes</th>\n",
       "      <td>6857</td>\n",
       "      <td>6853</td>\n",
       "      <td>Why is every comment removed?</td>\n",
       "      <td>3</td>\n",
       "    </tr>\n",
       "  </tbody>\n",
       "</table>\n",
       "</div>"
      ],
      "text/plain": [
       "          BODY                                                               \n",
       "         count unique                                                top freq\n",
       "REMOVED                                                                      \n",
       "No       14479  14479  One very surprising effect of having a dog aga...    1\n",
       "Yes       6857   6853                      Why is every comment removed?    3"
      ]
     },
     "execution_count": 4,
     "metadata": {},
     "output_type": "execute_result"
    }
   ],
   "source": [
    "reddit.groupby('REMOVED').describe() # stats about the data group by category"
   ]
  },
  {
   "cell_type": "markdown",
   "metadata": {},
   "source": [
    "# Exploratory analysis"
   ]
  },
  {
   "cell_type": "code",
   "execution_count": 5,
   "metadata": {},
   "outputs": [],
   "source": [
    "reddit['LENGTH'] = reddit['BODY'].apply(len) # find the length of each comment"
   ]
  },
  {
   "cell_type": "code",
   "execution_count": 6,
   "metadata": {},
   "outputs": [
    {
     "data": {
      "text/plain": [
       "array([<matplotlib.axes._subplots.AxesSubplot object at 0x0000015D6810D5F8>,\n",
       "       <matplotlib.axes._subplots.AxesSubplot object at 0x0000015D68133DA0>],\n",
       "      dtype=object)"
      ]
     },
     "execution_count": 6,
     "metadata": {},
     "output_type": "execute_result"
    },
    {
     "data": {
      "image/png": "[encoded data removed]",
      "text/plain": [
       "<Figure size 936x360 with 2 Axes>"
      ]
     },
     "metadata": {
      "needs_background": "light"
     },
     "output_type": "display_data"
    }
   ],
   "source": [
    "reddit.hist(column = 'LENGTH', bins = 100, by = 'REMOVED', sharex = True, figsize = (13,5)) # histogram of num of characters in each comment"
   ]
  },
  {
   "cell_type": "markdown",
   "metadata": {},
   "source": [
    "From this plot we can see that the length of the comment does not seem to be a good indicator of whether a message was removed or not, this is as expected but it is always worth exploring the data."
   ]
  },
  {
   "cell_type": "code",
   "execution_count": 7,
   "metadata": {},
   "outputs": [],
   "source": [
    "def extract_punc(text):\n",
    "    punc = [char for char in text if char in string.punctuation] # add punctuation to list\n",
    "    return len(punc)"
   ]
  },
  {
   "cell_type": "code",
   "execution_count": 8,
   "metadata": {},
   "outputs": [
    {
     "data": {
      "text/plain": [
       "array([<matplotlib.axes._subplots.AxesSubplot object at 0x0000015D4C83E978>,\n",
       "       <matplotlib.axes._subplots.AxesSubplot object at 0x0000015D685A42E8>],\n",
       "      dtype=object)"
      ]
     },
     "execution_count": 8,
     "metadata": {},
     "output_type": "execute_result"
    },
    {
     "data": {
      "image/png": "[encoded data removed]",
      "text/plain": [
       "<Figure size 936x360 with 2 Axes>"
      ]
     },
     "metadata": {
      "needs_background": "light"
     },
     "output_type": "display_data"
    }
   ],
   "source": [
    "reddit['NUM_PUNC'] = reddit['BODY'].apply(extract_punc) # apply above function to each row of data\n",
    "reddit.hist(column = 'NUM_PUNC', bins = 100, by = 'REMOVED', sharex = True, figsize = (13,5)) # histogram of num of punctuation marks"
   ]
  },
  {
   "cell_type": "markdown",
   "metadata": {},
   "source": [
    "Again this shows that there is little to no difference between the distribution of number of punctuation points used in comments that were removed and not removed meaning it is not a good indicator to add to our classifier."
   ]
  },
  {
   "cell_type": "markdown",
   "metadata": {},
   "source": [
    "# Process data\n",
    "\n",
    "It is important to preprocess your text data into a simpler form, for example removed words that carry no weight, e.g. 'I' or 'an' so as to not drown out the important words that do carry meaning, we will also remove punctuation from our comments, however this could be an important feature in some datasets."
   ]
  },
  {
   "cell_type": "code",
   "execution_count": 9,
   "metadata": {},
   "outputs": [],
   "source": [
    "def text_process(text):\n",
    "    no_punc = [char for char in text if char not in string.punctuation] # non punctuation characters\n",
    "    no_punc = ''.join(no_punc) # join back together to a single string\n",
    "    return [word for word in no_punc.split() if word.lower() not in stopwords.words('english')] # remove stopwords"
   ]
  },
  {
   "cell_type": "code",
   "execution_count": 10,
   "metadata": {},
   "outputs": [],
   "source": [
    "X_train, X_test, y_train, y_test = train_test_split(reddit['BODY'], reddit['REMOVED']) # split data into train and test set"
   ]
  },
  {
   "cell_type": "code",
   "execution_count": 11,
   "metadata": {},
   "outputs": [],
   "source": [
    "text_pipeline = Pipeline([('bow', CountVectorizer(analyzer=text_process)), # create pipline\n",
    "                            ('tfidf', TfidfTransformer()), # Term Frequency Inverse Document Frequency\n",
    "                            ('NaiveBayes', MultinomialNB()) # NaiveBayes algorithm\n",
    "                        ])"
   ]
  },
  {
   "cell_type": "markdown",
   "metadata": {},
   "source": [
    "# Train, test  and adapt models\n",
    "Note: These models may take a while to train, particularly on a slow computer or laptop"
   ]
  },
  {
   "cell_type": "code",
   "execution_count": 12,
   "metadata": {},
   "outputs": [
    {
     "name": "stdout",
     "output_type": "stream",
     "text": [
      "0.6934758155230596 \n",
      "\n",
      "\n",
      "              precision    recall  f1-score   support\n",
      "\n",
      "          No       0.69      1.00      0.82      3633\n",
      "         Yes       0.85      0.05      0.09      1701\n",
      "\n",
      "    accuracy                           0.69      5334\n",
      "   macro avg       0.77      0.52      0.45      5334\n",
      "weighted avg       0.74      0.69      0.58      5334\n",
      " \n",
      "\n",
      "\n",
      "[[3619   14]\n",
      " [1621   80]] \n",
      "\n",
      "\n"
     ]
    }
   ],
   "source": [
    "remove_analysis = text_pipeline.fit(X_train, y_train) # run the pipeline\n",
    "pred = remove_analysis.predict(X_test) # predict values based on model\n",
    "\n",
    "print(accuracy_score(y_test, pred), '\\n\\n')\n",
    "print(classification_report(y_test, pred), '\\n\\n')\n",
    "print(confusion_matrix(y_test, pred), '\\n\\n')\n"
   ]
  },
  {
   "cell_type": "markdown",
   "metadata": {},
   "source": [
    "We can see that although the accuracy score of this model seemed decent at around 68%, the actual model is terrible, this could be due to the significant class imbalance. Following, we create a model where the classes are evenly balanced"
   ]
  },
  {
   "cell_type": "code",
   "execution_count": 13,
   "metadata": {},
   "outputs": [
    {
     "data": {
      "text/plain": [
       "<matplotlib.axes._subplots.AxesSubplot at 0x15d6bec1550>"
      ]
     },
     "execution_count": 13,
     "metadata": {},
     "output_type": "execute_result"
    },
    {
     "data": {
      "image/png": "[encoded data removed]",
      "text/plain": [
       "<Figure size 432x288 with 1 Axes>"
      ]
     },
     "metadata": {
      "needs_background": "light"
     },
     "output_type": "display_data"
    }
   ],
   "source": [
    "reddit_no = reddit[reddit['REMOVED'] == 'No'] # data from the No class\n",
    "reddit_yes = reddit[reddit['REMOVED'] == 'Yes'] # data from the Yes class\n",
    "to_select = min(len(reddit_no), len(reddit_yes)) # length of smallest dataset\n",
    "\n",
    "reddit = pd.concat([reddit_no.iloc[:to_select,:], reddit_yes.iloc[:to_select,:]]) # combine the datasets so they are balanced\n",
    "\n",
    "\n",
    "sns.countplot(reddit['REMOVED'])"
   ]
  },
  {
   "cell_type": "code",
   "execution_count": 14,
   "metadata": {},
   "outputs": [],
   "source": [
    "X_train, X_test, y_train, y_test = train_test_split(reddit['BODY'], reddit['REMOVED']) # split training data into train and test"
   ]
  },
  {
   "cell_type": "code",
   "execution_count": 15,
   "metadata": {},
   "outputs": [
    {
     "name": "stdout",
     "output_type": "stream",
     "text": [
      "0.689997083697871 \n",
      "\n",
      "\n",
      "              precision    recall  f1-score   support\n",
      "\n",
      "          No       0.67      0.75      0.71      1737\n",
      "         Yes       0.71      0.63      0.67      1692\n",
      "\n",
      "    accuracy                           0.69      3429\n",
      "   macro avg       0.69      0.69      0.69      3429\n",
      "weighted avg       0.69      0.69      0.69      3429\n",
      " \n",
      "\n",
      "\n",
      "[[1305  432]\n",
      " [ 631 1061]] \n",
      "\n",
      "\n"
     ]
    }
   ],
   "source": [
    "remove_analysis_balanced = text_pipeline.fit(X_train, y_train) # fit pipeline\n",
    "pred_balanced = remove_analysis_balanced.predict(X_test) # predict values\n",
    "\n",
    "print(accuracy_score(y_test, pred_balanced), '\\n\\n')\n",
    "print(classification_report(y_test, pred_balanced), '\\n\\n')\n",
    "print(confusion_matrix(y_test, pred_balanced), '\\n\\n')"
   ]
  },
  {
   "cell_type": "markdown",
   "metadata": {},
   "source": [
    "print('Although the accuracy of the model is approximitely equal to that of the previous one, the overall performance metrics are much better as the model predicts more evenly about the classes. This is demonstrative as to why you need to explore your data before blindly fitting a model to it and looking at only the accuracy score as this can paint a very false picture of how good your model is. The phrase 'Garbage in garbage out comes to mind here'.\n",
    "\n",
    "To make the predictions better, another thing that might work is stemming. This is the process of attempting to reduce a word down to it's base word, e.g. running would become run. Lets try this and see if it has an impact on our predictions.(we will use the same balanced dataset as the previous model)"
   ]
  },
  {
   "cell_type": "code",
   "execution_count": 16,
   "metadata": {},
   "outputs": [],
   "source": [
    "def text_process_with_stem(text):\n",
    "    ps = PorterStemmer() # stemmer object\n",
    "    no_punc = [char for char in text if char not in string.punctuation] # remove punctuation\n",
    "    no_punc = ''.join(no_punc) # combine to a string\n",
    "    no_stops = [word for word in no_punc.split() if word.lower() not in stopwords.words('english')] # remove stopwords\n",
    "    words_ps = [ps.stem(word.lower()) for word in no_stops] # stem words\n",
    "    return words_ps"
   ]
  },
  {
   "cell_type": "code",
   "execution_count": 17,
   "metadata": {},
   "outputs": [],
   "source": [
    "text_pipeline_stem = Pipeline([('bow', CountVectorizer(analyzer=text_process_with_stem)), # changed analyzer\n",
    "                            ('tfidf', TfidfTransformer()),\n",
    "                            ('NaiveBayes', MultinomialNB())\n",
    "                        ])"
   ]
  },
  {
   "cell_type": "code",
   "execution_count": 18,
   "metadata": {},
   "outputs": [],
   "source": [
    "X_train, X_test, y_train, y_test = train_test_split(reddit['BODY'], reddit['REMOVED']) # split training data"
   ]
  },
  {
   "cell_type": "code",
   "execution_count": 19,
   "metadata": {},
   "outputs": [
    {
     "name": "stdout",
     "output_type": "stream",
     "text": [
      "0.6999125109361329 \n",
      "\n",
      "\n",
      "              precision    recall  f1-score   support\n",
      "\n",
      "          No       0.68      0.75      0.71      1723\n",
      "         Yes       0.72      0.65      0.68      1706\n",
      "\n",
      "    accuracy                           0.70      3429\n",
      "   macro avg       0.70      0.70      0.70      3429\n",
      "weighted avg       0.70      0.70      0.70      3429\n",
      " \n",
      "\n",
      "\n",
      "[[1285  438]\n",
      " [ 591 1115]] \n",
      "\n",
      "\n"
     ]
    }
   ],
   "source": [
    "remove_analysis_balanced_stem = text_pipeline_stem.fit(X_train, y_train) # fit model\n",
    "pred_balanced_stem = remove_analysis_balanced_stem.predict(X_test) # predict off of model\n",
    "\n",
    "print(accuracy_score(y_test, pred_balanced_stem), '\\n\\n')\n",
    "print(classification_report(y_test, pred_balanced_stem), '\\n\\n')\n",
    "print(confusion_matrix(y_test, pred_balanced_stem), '\\n\\n')"
   ]
  },
  {
   "cell_type": "markdown",
   "metadata": {},
   "source": [
    "This model performs very simmilar to the previous model, it is possibly marginally better but this will likely depend on how the data is split. Instead of stemming, we could try Lemmatizing the words."
   ]
  },
  {
   "cell_type": "code",
   "execution_count": 20,
   "metadata": {},
   "outputs": [],
   "source": [
    "def text_process_with_lemma(text):\n",
    "    lemma = WordNetLemmatizer()\n",
    "    no_punc = [char for char in text if char not in string.punctuation]\n",
    "    no_punc = ''.join(no_punc)\n",
    "    no_stops = [word for word in no_punc.split() if word.lower() not in stopwords.words('english')]\n",
    "    words_lemma = [lemma.lemmatize(word.lower()) for word in no_stops] # Lemmatize words\n",
    "    return words_lemma"
   ]
  },
  {
   "cell_type": "code",
   "execution_count": 21,
   "metadata": {},
   "outputs": [],
   "source": [
    "text_pipeline_lemma = Pipeline([('bow', CountVectorizer(analyzer=text_process_with_lemma)), # changed analyzer\n",
    "                            ('tfidf', TfidfTransformer()),\n",
    "                            ('NaiveBayes', MultinomialNB())\n",
    "                        ])"
   ]
  },
  {
   "cell_type": "code",
   "execution_count": 22,
   "metadata": {},
   "outputs": [],
   "source": [
    "X_train, X_test, y_train, y_test = train_test_split(reddit['BODY'], reddit['REMOVED']) # split data"
   ]
  },
  {
   "cell_type": "code",
   "execution_count": 23,
   "metadata": {},
   "outputs": [
    {
     "name": "stdout",
     "output_type": "stream",
     "text": [
      "0.49547973170020415 \n",
      "\n",
      "\n",
      "              precision    recall  f1-score   support\n",
      "\n",
      "          No       0.50      0.54      0.52      1722\n",
      "         Yes       0.49      0.45      0.47      1707\n",
      "\n",
      "    accuracy                           0.50      3429\n",
      "   macro avg       0.50      0.50      0.49      3429\n",
      "weighted avg       0.50      0.50      0.49      3429\n",
      " \n",
      "\n",
      "\n",
      "[[934 788]\n",
      " [942 765]] \n",
      "\n",
      "\n"
     ]
    }
   ],
   "source": [
    "remove_analysis_balanced_lemma = text_pipeline_lemma.fit(X_train, y_train) # fit model\n",
    "pred_balanced_lemma = remove_analysis_balanced_lemma.predict(X_test) # predict unseen instances\n",
    "\n",
    "print(accuracy_score(y_test, pred_balanced_stem), '\\n\\n')\n",
    "print(classification_report(y_test, pred_balanced_stem), '\\n\\n')\n",
    "print(confusion_matrix(y_test, pred_balanced_stem), '\\n\\n')"
   ]
  },
  {
   "cell_type": "markdown",
   "metadata": {},
   "source": [
    "This model appears to be no better than chance at predicting whether a comment should be removed, therefore we abandon this approach."
   ]
  },
  {
   "cell_type": "markdown",
   "metadata": {},
   "source": [
    "# Potential future improvements"
   ]
  },
  {
   "cell_type": "markdown",
   "metadata": {},
   "source": [
    "There are still steps that could be taken to potentially improve the prediction performance of our models. For example, if we were to process our data further, we could expand contractions in each comment and then do further processing after these extra words have been introduced to get better results. The other option is to choose a different algorthim (for example a Support vector machine) and tune the hyper-parameters to our model or we could use a different method altogether, such as a deep neural network. All of these are potential options but will not be explored in this notebook. "
   ]
  },
  {
   "cell_type": "code",
   "execution_count": null,
   "metadata": {},
   "outputs": [],
   "source": []
  }
 ],
 "metadata": {
  "kernelspec": {
   "display_name": "Python 3",
   "language": "python",
   "name": "python3"
  },
  "language_info": {
   "codemirror_mode": {
    "name": "ipython",
    "version": 3
   },
   "file_extension": ".py",
   "mimetype": "text/x-python",
   "name": "python",
   "nbconvert_exporter": "python",
   "pygments_lexer": "ipython3",
   "version": "3.6.8"
  }
 },
 "nbformat": 4,
 "nbformat_minor": 2
}
